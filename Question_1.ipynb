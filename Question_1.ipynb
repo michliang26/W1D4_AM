{
 "cells": [
  {
   "cell_type": "markdown",
   "metadata": {},
   "source": [
    "Write a Python class BankAccount with attributes like account_number, balance, date_of_opening and customer_name, and methods like deposit, withdraw, and check_balance."
   ]
  },
  {
   "cell_type": "code",
   "execution_count": 2,
   "metadata": {},
   "outputs": [],
   "source": [
    "class BankAccount:\n",
    "    def __init__(self, account_number, balance, date_of_opening, customer_name):\n",
    "        self.account_number = account_number\n",
    "        self.balance = balance \n",
    "        self.date_of_opening = date_of_opening\n",
    "        self.customer_name = customer_name\n",
    "\n",
    "    def deposit(self, amount):\n",
    "        self.balance += amount\n",
    "        print (f\"Deposit of {amount} is successful. New balance: {self.balance}\")\n",
    "    \n",
    "    def withdraw(self, amount):\n",
    "        if amount<= self.balance:\n",
    "             self.balance -= amount\n",
    "             print (f\"Withdrawal of {amount} is successful. New balance: {self.balance}\")\n",
    "        else:\n",
    "            print(\"insufficient funds\")\n",
    "        \n",
    "    def check_balance(self, amount):\n",
    "        print(f\"Account balance:{amount}\")\n"
   ]
  },
  {
   "cell_type": "code",
   "execution_count": 3,
   "metadata": {},
   "outputs": [
    {
     "name": "stdout",
     "output_type": "stream",
     "text": [
      "Deposit of 500 is successful. New balance: 1500\n",
      "Withdrawal of 200 is successful. New balance: 1300\n"
     ]
    }
   ],
   "source": [
    "account = BankAccount(\"1234567890\", 1000, \"2023-07-12\", \"John Doe\")\n",
    "account.deposit(500)  \n",
    "account.withdraw(200)  \n"
   ]
  }
 ],
 "metadata": {
  "kernelspec": {
   "display_name": "projectcuan",
   "language": "python",
   "name": "python3"
  },
  "language_info": {
   "codemirror_mode": {
    "name": "ipython",
    "version": 3
   },
   "file_extension": ".py",
   "mimetype": "text/x-python",
   "name": "python",
   "nbconvert_exporter": "python",
   "pygments_lexer": "ipython3",
   "version": "3.11.5"
  },
  "orig_nbformat": 4
 },
 "nbformat": 4,
 "nbformat_minor": 2
}
